{
  "cells": [
    {
      "cell_type": "markdown",
      "metadata": {
        "id": "view-in-github",
        "colab_type": "text"
      },
      "source": [
        "<a href=\"https://colab.research.google.com/github/saiharishs/AI-ML-SEM2/blob/main/Mushroom_Classification_ANN_21023211.ipynb\" target=\"_parent\"><img src=\"https://colab.research.google.com/assets/colab-badge.svg\" alt=\"Open In Colab\"/></a>"
      ]
    },
    {
      "cell_type": "markdown",
      "id": "b417a0ae",
      "metadata": {
        "papermill": {
          "duration": 0.033071,
          "end_time": "2022-04-01T16:12:05.930319",
          "exception": false,
          "start_time": "2022-04-01T16:12:05.897248",
          "status": "completed"
        },
        "tags": [],
        "id": "b417a0ae"
      },
      "source": [
        "# Mushroom classification (Using ANN)"
      ]
    },
    {
      "cell_type": "markdown",
      "id": "9b909442",
      "metadata": {
        "papermill": {
          "duration": 0.032261,
          "end_time": "2022-04-01T16:12:05.996595",
          "exception": false,
          "start_time": "2022-04-01T16:12:05.964334",
          "status": "completed"
        },
        "tags": [],
        "id": "9b909442"
      },
      "source": [
        "# Importing Dataset and Libraries"
      ]
    },
    {
      "cell_type": "code",
      "execution_count": 58,
      "id": "0e77b93a",
      "metadata": {
        "execution": {
          "iopub.execute_input": "2022-04-01T16:12:06.156378Z",
          "iopub.status.busy": "2022-04-01T16:12:06.155765Z",
          "iopub.status.idle": "2022-04-01T16:12:11.945396Z",
          "shell.execute_reply": "2022-04-01T16:12:11.945924Z",
          "shell.execute_reply.started": "2022-04-01T16:10:16.672485Z"
        },
        "papermill": {
          "duration": 5.825295,
          "end_time": "2022-04-01T16:12:11.946121",
          "exception": false,
          "start_time": "2022-04-01T16:12:06.120826",
          "status": "completed"
        },
        "tags": [],
        "id": "0e77b93a"
      },
      "outputs": [],
      "source": [
        "# importing lib\n",
        "import matplotlib.pyplot as plt\n",
        "import seaborn as sns\n",
        "import tensorflow as tf"
      ]
    },
    {
      "cell_type": "code",
      "source": [
        "from google.colab import drive\n",
        "drive.mount('/content/drive')"
      ],
      "metadata": {
        "colab": {
          "base_uri": "https://localhost:8080/"
        },
        "id": "Iu0iDL8-FEqb",
        "outputId": "093ee666-9a1d-4d77-ef88-513334e7757b"
      },
      "id": "Iu0iDL8-FEqb",
      "execution_count": 30,
      "outputs": [
        {
          "output_type": "stream",
          "name": "stdout",
          "text": [
            "Drive already mounted at /content/drive; to attempt to forcibly remount, call drive.mount(\"/content/drive\", force_remount=True).\n"
          ]
        }
      ]
    },
    {
      "cell_type": "code",
      "execution_count": 59,
      "id": "a6178b34",
      "metadata": {
        "execution": {
          "iopub.execute_input": "2022-04-01T16:12:12.015156Z",
          "iopub.status.busy": "2022-04-01T16:12:12.014451Z",
          "iopub.status.idle": "2022-04-01T16:12:12.090794Z",
          "shell.execute_reply": "2022-04-01T16:12:12.090128Z",
          "shell.execute_reply.started": "2022-04-01T16:10:18.956700Z"
        },
        "papermill": {
          "duration": 0.111981,
          "end_time": "2022-04-01T16:12:12.090955",
          "exception": false,
          "start_time": "2022-04-01T16:12:11.978974",
          "status": "completed"
        },
        "tags": [],
        "colab": {
          "base_uri": "https://localhost:8080/",
          "height": 332
        },
        "id": "a6178b34",
        "outputId": "e179cf98-f787-41c5-bfd0-ca30ab3b8ef4"
      },
      "outputs": [
        {
          "output_type": "execute_result",
          "data": {
            "text/plain": [
              "  class cap-shape cap-surface cap-color bruises odor gill-attachment  \\\n",
              "0     p         x           s         n       t    p               f   \n",
              "1     e         x           s         y       t    a               f   \n",
              "2     e         b           s         w       t    l               f   \n",
              "3     p         x           y         w       t    p               f   \n",
              "4     e         x           s         g       f    n               f   \n",
              "\n",
              "  gill-spacing gill-size gill-color  ... stalk-surface-below-ring  \\\n",
              "0            c         n          k  ...                        s   \n",
              "1            c         b          k  ...                        s   \n",
              "2            c         b          n  ...                        s   \n",
              "3            c         n          n  ...                        s   \n",
              "4            w         b          k  ...                        s   \n",
              "\n",
              "  stalk-color-above-ring stalk-color-below-ring veil-type veil-color  \\\n",
              "0                      w                      w         p          w   \n",
              "1                      w                      w         p          w   \n",
              "2                      w                      w         p          w   \n",
              "3                      w                      w         p          w   \n",
              "4                      w                      w         p          w   \n",
              "\n",
              "  ring-number ring-type spore-print-color population habitat  \n",
              "0           o         p                 k          s       u  \n",
              "1           o         p                 n          n       g  \n",
              "2           o         p                 n          n       m  \n",
              "3           o         p                 k          s       u  \n",
              "4           o         e                 n          a       g  \n",
              "\n",
              "[5 rows x 23 columns]"
            ],
            "text/html": [
              "\n",
              "  <div id=\"df-68139c4d-bf5a-42c1-84ed-0958c16ede0c\">\n",
              "    <div class=\"colab-df-container\">\n",
              "      <div>\n",
              "<style scoped>\n",
              "    .dataframe tbody tr th:only-of-type {\n",
              "        vertical-align: middle;\n",
              "    }\n",
              "\n",
              "    .dataframe tbody tr th {\n",
              "        vertical-align: top;\n",
              "    }\n",
              "\n",
              "    .dataframe thead th {\n",
              "        text-align: right;\n",
              "    }\n",
              "</style>\n",
              "<table border=\"1\" class=\"dataframe\">\n",
              "  <thead>\n",
              "    <tr style=\"text-align: right;\">\n",
              "      <th></th>\n",
              "      <th>class</th>\n",
              "      <th>cap-shape</th>\n",
              "      <th>cap-surface</th>\n",
              "      <th>cap-color</th>\n",
              "      <th>bruises</th>\n",
              "      <th>odor</th>\n",
              "      <th>gill-attachment</th>\n",
              "      <th>gill-spacing</th>\n",
              "      <th>gill-size</th>\n",
              "      <th>gill-color</th>\n",
              "      <th>...</th>\n",
              "      <th>stalk-surface-below-ring</th>\n",
              "      <th>stalk-color-above-ring</th>\n",
              "      <th>stalk-color-below-ring</th>\n",
              "      <th>veil-type</th>\n",
              "      <th>veil-color</th>\n",
              "      <th>ring-number</th>\n",
              "      <th>ring-type</th>\n",
              "      <th>spore-print-color</th>\n",
              "      <th>population</th>\n",
              "      <th>habitat</th>\n",
              "    </tr>\n",
              "  </thead>\n",
              "  <tbody>\n",
              "    <tr>\n",
              "      <th>0</th>\n",
              "      <td>p</td>\n",
              "      <td>x</td>\n",
              "      <td>s</td>\n",
              "      <td>n</td>\n",
              "      <td>t</td>\n",
              "      <td>p</td>\n",
              "      <td>f</td>\n",
              "      <td>c</td>\n",
              "      <td>n</td>\n",
              "      <td>k</td>\n",
              "      <td>...</td>\n",
              "      <td>s</td>\n",
              "      <td>w</td>\n",
              "      <td>w</td>\n",
              "      <td>p</td>\n",
              "      <td>w</td>\n",
              "      <td>o</td>\n",
              "      <td>p</td>\n",
              "      <td>k</td>\n",
              "      <td>s</td>\n",
              "      <td>u</td>\n",
              "    </tr>\n",
              "    <tr>\n",
              "      <th>1</th>\n",
              "      <td>e</td>\n",
              "      <td>x</td>\n",
              "      <td>s</td>\n",
              "      <td>y</td>\n",
              "      <td>t</td>\n",
              "      <td>a</td>\n",
              "      <td>f</td>\n",
              "      <td>c</td>\n",
              "      <td>b</td>\n",
              "      <td>k</td>\n",
              "      <td>...</td>\n",
              "      <td>s</td>\n",
              "      <td>w</td>\n",
              "      <td>w</td>\n",
              "      <td>p</td>\n",
              "      <td>w</td>\n",
              "      <td>o</td>\n",
              "      <td>p</td>\n",
              "      <td>n</td>\n",
              "      <td>n</td>\n",
              "      <td>g</td>\n",
              "    </tr>\n",
              "    <tr>\n",
              "      <th>2</th>\n",
              "      <td>e</td>\n",
              "      <td>b</td>\n",
              "      <td>s</td>\n",
              "      <td>w</td>\n",
              "      <td>t</td>\n",
              "      <td>l</td>\n",
              "      <td>f</td>\n",
              "      <td>c</td>\n",
              "      <td>b</td>\n",
              "      <td>n</td>\n",
              "      <td>...</td>\n",
              "      <td>s</td>\n",
              "      <td>w</td>\n",
              "      <td>w</td>\n",
              "      <td>p</td>\n",
              "      <td>w</td>\n",
              "      <td>o</td>\n",
              "      <td>p</td>\n",
              "      <td>n</td>\n",
              "      <td>n</td>\n",
              "      <td>m</td>\n",
              "    </tr>\n",
              "    <tr>\n",
              "      <th>3</th>\n",
              "      <td>p</td>\n",
              "      <td>x</td>\n",
              "      <td>y</td>\n",
              "      <td>w</td>\n",
              "      <td>t</td>\n",
              "      <td>p</td>\n",
              "      <td>f</td>\n",
              "      <td>c</td>\n",
              "      <td>n</td>\n",
              "      <td>n</td>\n",
              "      <td>...</td>\n",
              "      <td>s</td>\n",
              "      <td>w</td>\n",
              "      <td>w</td>\n",
              "      <td>p</td>\n",
              "      <td>w</td>\n",
              "      <td>o</td>\n",
              "      <td>p</td>\n",
              "      <td>k</td>\n",
              "      <td>s</td>\n",
              "      <td>u</td>\n",
              "    </tr>\n",
              "    <tr>\n",
              "      <th>4</th>\n",
              "      <td>e</td>\n",
              "      <td>x</td>\n",
              "      <td>s</td>\n",
              "      <td>g</td>\n",
              "      <td>f</td>\n",
              "      <td>n</td>\n",
              "      <td>f</td>\n",
              "      <td>w</td>\n",
              "      <td>b</td>\n",
              "      <td>k</td>\n",
              "      <td>...</td>\n",
              "      <td>s</td>\n",
              "      <td>w</td>\n",
              "      <td>w</td>\n",
              "      <td>p</td>\n",
              "      <td>w</td>\n",
              "      <td>o</td>\n",
              "      <td>e</td>\n",
              "      <td>n</td>\n",
              "      <td>a</td>\n",
              "      <td>g</td>\n",
              "    </tr>\n",
              "  </tbody>\n",
              "</table>\n",
              "<p>5 rows × 23 columns</p>\n",
              "</div>\n",
              "      <button class=\"colab-df-convert\" onclick=\"convertToInteractive('df-68139c4d-bf5a-42c1-84ed-0958c16ede0c')\"\n",
              "              title=\"Convert this dataframe to an interactive table.\"\n",
              "              style=\"display:none;\">\n",
              "        \n",
              "  <svg xmlns=\"http://www.w3.org/2000/svg\" height=\"24px\"viewBox=\"0 0 24 24\"\n",
              "       width=\"24px\">\n",
              "    <path d=\"M0 0h24v24H0V0z\" fill=\"none\"/>\n",
              "    <path d=\"M18.56 5.44l.94 2.06.94-2.06 2.06-.94-2.06-.94-.94-2.06-.94 2.06-2.06.94zm-11 1L8.5 8.5l.94-2.06 2.06-.94-2.06-.94L8.5 2.5l-.94 2.06-2.06.94zm10 10l.94 2.06.94-2.06 2.06-.94-2.06-.94-.94-2.06-.94 2.06-2.06.94z\"/><path d=\"M17.41 7.96l-1.37-1.37c-.4-.4-.92-.59-1.43-.59-.52 0-1.04.2-1.43.59L10.3 9.45l-7.72 7.72c-.78.78-.78 2.05 0 2.83L4 21.41c.39.39.9.59 1.41.59.51 0 1.02-.2 1.41-.59l7.78-7.78 2.81-2.81c.8-.78.8-2.07 0-2.86zM5.41 20L4 18.59l7.72-7.72 1.47 1.35L5.41 20z\"/>\n",
              "  </svg>\n",
              "      </button>\n",
              "      \n",
              "  <style>\n",
              "    .colab-df-container {\n",
              "      display:flex;\n",
              "      flex-wrap:wrap;\n",
              "      gap: 12px;\n",
              "    }\n",
              "\n",
              "    .colab-df-convert {\n",
              "      background-color: #E8F0FE;\n",
              "      border: none;\n",
              "      border-radius: 50%;\n",
              "      cursor: pointer;\n",
              "      display: none;\n",
              "      fill: #1967D2;\n",
              "      height: 32px;\n",
              "      padding: 0 0 0 0;\n",
              "      width: 32px;\n",
              "    }\n",
              "\n",
              "    .colab-df-convert:hover {\n",
              "      background-color: #E2EBFA;\n",
              "      box-shadow: 0px 1px 2px rgba(60, 64, 67, 0.3), 0px 1px 3px 1px rgba(60, 64, 67, 0.15);\n",
              "      fill: #174EA6;\n",
              "    }\n",
              "\n",
              "    [theme=dark] .colab-df-convert {\n",
              "      background-color: #3B4455;\n",
              "      fill: #D2E3FC;\n",
              "    }\n",
              "\n",
              "    [theme=dark] .colab-df-convert:hover {\n",
              "      background-color: #434B5C;\n",
              "      box-shadow: 0px 1px 3px 1px rgba(0, 0, 0, 0.15);\n",
              "      filter: drop-shadow(0px 1px 2px rgba(0, 0, 0, 0.3));\n",
              "      fill: #FFFFFF;\n",
              "    }\n",
              "  </style>\n",
              "\n",
              "      <script>\n",
              "        const buttonEl =\n",
              "          document.querySelector('#df-68139c4d-bf5a-42c1-84ed-0958c16ede0c button.colab-df-convert');\n",
              "        buttonEl.style.display =\n",
              "          google.colab.kernel.accessAllowed ? 'block' : 'none';\n",
              "\n",
              "        async function convertToInteractive(key) {\n",
              "          const element = document.querySelector('#df-68139c4d-bf5a-42c1-84ed-0958c16ede0c');\n",
              "          const dataTable =\n",
              "            await google.colab.kernel.invokeFunction('convertToInteractive',\n",
              "                                                     [key], {});\n",
              "          if (!dataTable) return;\n",
              "\n",
              "          const docLinkHtml = 'Like what you see? Visit the ' +\n",
              "            '<a target=\"_blank\" href=https://colab.research.google.com/notebooks/data_table.ipynb>data table notebook</a>'\n",
              "            + ' to learn more about interactive tables.';\n",
              "          element.innerHTML = '';\n",
              "          dataTable['output_type'] = 'display_data';\n",
              "          await google.colab.output.renderOutput(dataTable, element);\n",
              "          const docLink = document.createElement('div');\n",
              "          docLink.innerHTML = docLinkHtml;\n",
              "          element.appendChild(docLink);\n",
              "        }\n",
              "      </script>\n",
              "    </div>\n",
              "  </div>\n",
              "  "
            ]
          },
          "metadata": {},
          "execution_count": 59
        }
      ],
      "source": [
        "df = pd.read_csv('../content/drive/MyDrive/input/mushrooms.csv')\n",
        "df.head()"
      ]
    },
    {
      "cell_type": "markdown",
      "id": "6715f6fe",
      "metadata": {
        "papermill": {
          "duration": 0.034646,
          "end_time": "2022-04-01T16:12:12.159703",
          "exception": false,
          "start_time": "2022-04-01T16:12:12.125057",
          "status": "completed"
        },
        "tags": [],
        "id": "6715f6fe"
      },
      "source": [
        "# Feature Engineering"
      ]
    },
    {
      "cell_type": "code",
      "execution_count": 60,
      "id": "aa0f0d1d",
      "metadata": {
        "execution": {
          "iopub.execute_input": "2022-04-01T16:12:12.236285Z",
          "iopub.status.busy": "2022-04-01T16:12:12.235606Z",
          "iopub.status.idle": "2022-04-01T16:12:12.331146Z",
          "shell.execute_reply": "2022-04-01T16:12:12.331812Z",
          "shell.execute_reply.started": "2022-04-01T16:10:19.015566Z"
        },
        "papermill": {
          "duration": 0.139152,
          "end_time": "2022-04-01T16:12:12.331990",
          "exception": false,
          "start_time": "2022-04-01T16:12:12.192838",
          "status": "completed"
        },
        "tags": [],
        "colab": {
          "base_uri": "https://localhost:8080/",
          "height": 300
        },
        "id": "aa0f0d1d",
        "outputId": "0240e007-45f8-4766-8d19-4e74c26a9bbe"
      },
      "outputs": [
        {
          "output_type": "execute_result",
          "data": {
            "text/plain": [
              "       class cap-shape cap-surface cap-color bruises  odor gill-attachment  \\\n",
              "count   8124      8124        8124      8124    8124  8124            8124   \n",
              "unique     2         6           4        10       2     9               2   \n",
              "top        e         x           y         n       f     n               f   \n",
              "freq    4208      3656        3244      2284    4748  3528            7914   \n",
              "\n",
              "       gill-spacing gill-size gill-color  ... stalk-surface-below-ring  \\\n",
              "count          8124      8124       8124  ...                     8124   \n",
              "unique            2         2         12  ...                        4   \n",
              "top               c         b          b  ...                        s   \n",
              "freq           6812      5612       1728  ...                     4936   \n",
              "\n",
              "       stalk-color-above-ring stalk-color-below-ring veil-type veil-color  \\\n",
              "count                    8124                   8124      8124       8124   \n",
              "unique                      9                      9         1          4   \n",
              "top                         w                      w         p          w   \n",
              "freq                     4464                   4384      8124       7924   \n",
              "\n",
              "       ring-number ring-type spore-print-color population habitat  \n",
              "count         8124      8124              8124       8124    8124  \n",
              "unique           3         5                 9          6       7  \n",
              "top              o         p                 w          v       d  \n",
              "freq          7488      3968              2388       4040    3148  \n",
              "\n",
              "[4 rows x 23 columns]"
            ],
            "text/html": [
              "\n",
              "  <div id=\"df-f7e2121c-50f6-420b-9c63-d298d04749d7\">\n",
              "    <div class=\"colab-df-container\">\n",
              "      <div>\n",
              "<style scoped>\n",
              "    .dataframe tbody tr th:only-of-type {\n",
              "        vertical-align: middle;\n",
              "    }\n",
              "\n",
              "    .dataframe tbody tr th {\n",
              "        vertical-align: top;\n",
              "    }\n",
              "\n",
              "    .dataframe thead th {\n",
              "        text-align: right;\n",
              "    }\n",
              "</style>\n",
              "<table border=\"1\" class=\"dataframe\">\n",
              "  <thead>\n",
              "    <tr style=\"text-align: right;\">\n",
              "      <th></th>\n",
              "      <th>class</th>\n",
              "      <th>cap-shape</th>\n",
              "      <th>cap-surface</th>\n",
              "      <th>cap-color</th>\n",
              "      <th>bruises</th>\n",
              "      <th>odor</th>\n",
              "      <th>gill-attachment</th>\n",
              "      <th>gill-spacing</th>\n",
              "      <th>gill-size</th>\n",
              "      <th>gill-color</th>\n",
              "      <th>...</th>\n",
              "      <th>stalk-surface-below-ring</th>\n",
              "      <th>stalk-color-above-ring</th>\n",
              "      <th>stalk-color-below-ring</th>\n",
              "      <th>veil-type</th>\n",
              "      <th>veil-color</th>\n",
              "      <th>ring-number</th>\n",
              "      <th>ring-type</th>\n",
              "      <th>spore-print-color</th>\n",
              "      <th>population</th>\n",
              "      <th>habitat</th>\n",
              "    </tr>\n",
              "  </thead>\n",
              "  <tbody>\n",
              "    <tr>\n",
              "      <th>count</th>\n",
              "      <td>8124</td>\n",
              "      <td>8124</td>\n",
              "      <td>8124</td>\n",
              "      <td>8124</td>\n",
              "      <td>8124</td>\n",
              "      <td>8124</td>\n",
              "      <td>8124</td>\n",
              "      <td>8124</td>\n",
              "      <td>8124</td>\n",
              "      <td>8124</td>\n",
              "      <td>...</td>\n",
              "      <td>8124</td>\n",
              "      <td>8124</td>\n",
              "      <td>8124</td>\n",
              "      <td>8124</td>\n",
              "      <td>8124</td>\n",
              "      <td>8124</td>\n",
              "      <td>8124</td>\n",
              "      <td>8124</td>\n",
              "      <td>8124</td>\n",
              "      <td>8124</td>\n",
              "    </tr>\n",
              "    <tr>\n",
              "      <th>unique</th>\n",
              "      <td>2</td>\n",
              "      <td>6</td>\n",
              "      <td>4</td>\n",
              "      <td>10</td>\n",
              "      <td>2</td>\n",
              "      <td>9</td>\n",
              "      <td>2</td>\n",
              "      <td>2</td>\n",
              "      <td>2</td>\n",
              "      <td>12</td>\n",
              "      <td>...</td>\n",
              "      <td>4</td>\n",
              "      <td>9</td>\n",
              "      <td>9</td>\n",
              "      <td>1</td>\n",
              "      <td>4</td>\n",
              "      <td>3</td>\n",
              "      <td>5</td>\n",
              "      <td>9</td>\n",
              "      <td>6</td>\n",
              "      <td>7</td>\n",
              "    </tr>\n",
              "    <tr>\n",
              "      <th>top</th>\n",
              "      <td>e</td>\n",
              "      <td>x</td>\n",
              "      <td>y</td>\n",
              "      <td>n</td>\n",
              "      <td>f</td>\n",
              "      <td>n</td>\n",
              "      <td>f</td>\n",
              "      <td>c</td>\n",
              "      <td>b</td>\n",
              "      <td>b</td>\n",
              "      <td>...</td>\n",
              "      <td>s</td>\n",
              "      <td>w</td>\n",
              "      <td>w</td>\n",
              "      <td>p</td>\n",
              "      <td>w</td>\n",
              "      <td>o</td>\n",
              "      <td>p</td>\n",
              "      <td>w</td>\n",
              "      <td>v</td>\n",
              "      <td>d</td>\n",
              "    </tr>\n",
              "    <tr>\n",
              "      <th>freq</th>\n",
              "      <td>4208</td>\n",
              "      <td>3656</td>\n",
              "      <td>3244</td>\n",
              "      <td>2284</td>\n",
              "      <td>4748</td>\n",
              "      <td>3528</td>\n",
              "      <td>7914</td>\n",
              "      <td>6812</td>\n",
              "      <td>5612</td>\n",
              "      <td>1728</td>\n",
              "      <td>...</td>\n",
              "      <td>4936</td>\n",
              "      <td>4464</td>\n",
              "      <td>4384</td>\n",
              "      <td>8124</td>\n",
              "      <td>7924</td>\n",
              "      <td>7488</td>\n",
              "      <td>3968</td>\n",
              "      <td>2388</td>\n",
              "      <td>4040</td>\n",
              "      <td>3148</td>\n",
              "    </tr>\n",
              "  </tbody>\n",
              "</table>\n",
              "<p>4 rows × 23 columns</p>\n",
              "</div>\n",
              "      <button class=\"colab-df-convert\" onclick=\"convertToInteractive('df-f7e2121c-50f6-420b-9c63-d298d04749d7')\"\n",
              "              title=\"Convert this dataframe to an interactive table.\"\n",
              "              style=\"display:none;\">\n",
              "        \n",
              "  <svg xmlns=\"http://www.w3.org/2000/svg\" height=\"24px\"viewBox=\"0 0 24 24\"\n",
              "       width=\"24px\">\n",
              "    <path d=\"M0 0h24v24H0V0z\" fill=\"none\"/>\n",
              "    <path d=\"M18.56 5.44l.94 2.06.94-2.06 2.06-.94-2.06-.94-.94-2.06-.94 2.06-2.06.94zm-11 1L8.5 8.5l.94-2.06 2.06-.94-2.06-.94L8.5 2.5l-.94 2.06-2.06.94zm10 10l.94 2.06.94-2.06 2.06-.94-2.06-.94-.94-2.06-.94 2.06-2.06.94z\"/><path d=\"M17.41 7.96l-1.37-1.37c-.4-.4-.92-.59-1.43-.59-.52 0-1.04.2-1.43.59L10.3 9.45l-7.72 7.72c-.78.78-.78 2.05 0 2.83L4 21.41c.39.39.9.59 1.41.59.51 0 1.02-.2 1.41-.59l7.78-7.78 2.81-2.81c.8-.78.8-2.07 0-2.86zM5.41 20L4 18.59l7.72-7.72 1.47 1.35L5.41 20z\"/>\n",
              "  </svg>\n",
              "      </button>\n",
              "      \n",
              "  <style>\n",
              "    .colab-df-container {\n",
              "      display:flex;\n",
              "      flex-wrap:wrap;\n",
              "      gap: 12px;\n",
              "    }\n",
              "\n",
              "    .colab-df-convert {\n",
              "      background-color: #E8F0FE;\n",
              "      border: none;\n",
              "      border-radius: 50%;\n",
              "      cursor: pointer;\n",
              "      display: none;\n",
              "      fill: #1967D2;\n",
              "      height: 32px;\n",
              "      padding: 0 0 0 0;\n",
              "      width: 32px;\n",
              "    }\n",
              "\n",
              "    .colab-df-convert:hover {\n",
              "      background-color: #E2EBFA;\n",
              "      box-shadow: 0px 1px 2px rgba(60, 64, 67, 0.3), 0px 1px 3px 1px rgba(60, 64, 67, 0.15);\n",
              "      fill: #174EA6;\n",
              "    }\n",
              "\n",
              "    [theme=dark] .colab-df-convert {\n",
              "      background-color: #3B4455;\n",
              "      fill: #D2E3FC;\n",
              "    }\n",
              "\n",
              "    [theme=dark] .colab-df-convert:hover {\n",
              "      background-color: #434B5C;\n",
              "      box-shadow: 0px 1px 3px 1px rgba(0, 0, 0, 0.15);\n",
              "      filter: drop-shadow(0px 1px 2px rgba(0, 0, 0, 0.3));\n",
              "      fill: #FFFFFF;\n",
              "    }\n",
              "  </style>\n",
              "\n",
              "      <script>\n",
              "        const buttonEl =\n",
              "          document.querySelector('#df-f7e2121c-50f6-420b-9c63-d298d04749d7 button.colab-df-convert');\n",
              "        buttonEl.style.display =\n",
              "          google.colab.kernel.accessAllowed ? 'block' : 'none';\n",
              "\n",
              "        async function convertToInteractive(key) {\n",
              "          const element = document.querySelector('#df-f7e2121c-50f6-420b-9c63-d298d04749d7');\n",
              "          const dataTable =\n",
              "            await google.colab.kernel.invokeFunction('convertToInteractive',\n",
              "                                                     [key], {});\n",
              "          if (!dataTable) return;\n",
              "\n",
              "          const docLinkHtml = 'Like what you see? Visit the ' +\n",
              "            '<a target=\"_blank\" href=https://colab.research.google.com/notebooks/data_table.ipynb>data table notebook</a>'\n",
              "            + ' to learn more about interactive tables.';\n",
              "          element.innerHTML = '';\n",
              "          dataTable['output_type'] = 'display_data';\n",
              "          await google.colab.output.renderOutput(dataTable, element);\n",
              "          const docLink = document.createElement('div');\n",
              "          docLink.innerHTML = docLinkHtml;\n",
              "          element.appendChild(docLink);\n",
              "        }\n",
              "      </script>\n",
              "    </div>\n",
              "  </div>\n",
              "  "
            ]
          },
          "metadata": {},
          "execution_count": 60
        }
      ],
      "source": [
        "df.describe()"
      ]
    },
    {
      "cell_type": "code",
      "execution_count": 61,
      "id": "95a61e72",
      "metadata": {
        "execution": {
          "iopub.execute_input": "2022-04-01T16:12:12.403457Z",
          "iopub.status.busy": "2022-04-01T16:12:12.402803Z",
          "iopub.status.idle": "2022-04-01T16:12:12.437503Z",
          "shell.execute_reply": "2022-04-01T16:12:12.438104Z",
          "shell.execute_reply.started": "2022-04-01T16:10:19.120669Z"
        },
        "papermill": {
          "duration": 0.072177,
          "end_time": "2022-04-01T16:12:12.438292",
          "exception": false,
          "start_time": "2022-04-01T16:12:12.366115",
          "status": "completed"
        },
        "tags": [],
        "colab": {
          "base_uri": "https://localhost:8080/"
        },
        "id": "95a61e72",
        "outputId": "b741707f-52c9-4822-80c9-736ba1834532"
      },
      "outputs": [
        {
          "output_type": "stream",
          "name": "stdout",
          "text": [
            "<class 'pandas.core.frame.DataFrame'>\n",
            "RangeIndex: 8124 entries, 0 to 8123\n",
            "Data columns (total 23 columns):\n",
            " #   Column                    Non-Null Count  Dtype \n",
            "---  ------                    --------------  ----- \n",
            " 0   class                     8124 non-null   object\n",
            " 1   cap-shape                 8124 non-null   object\n",
            " 2   cap-surface               8124 non-null   object\n",
            " 3   cap-color                 8124 non-null   object\n",
            " 4   bruises                   8124 non-null   object\n",
            " 5   odor                      8124 non-null   object\n",
            " 6   gill-attachment           8124 non-null   object\n",
            " 7   gill-spacing              8124 non-null   object\n",
            " 8   gill-size                 8124 non-null   object\n",
            " 9   gill-color                8124 non-null   object\n",
            " 10  stalk-shape               8124 non-null   object\n",
            " 11  stalk-root                8124 non-null   object\n",
            " 12  stalk-surface-above-ring  8124 non-null   object\n",
            " 13  stalk-surface-below-ring  8124 non-null   object\n",
            " 14  stalk-color-above-ring    8124 non-null   object\n",
            " 15  stalk-color-below-ring    8124 non-null   object\n",
            " 16  veil-type                 8124 non-null   object\n",
            " 17  veil-color                8124 non-null   object\n",
            " 18  ring-number               8124 non-null   object\n",
            " 19  ring-type                 8124 non-null   object\n",
            " 20  spore-print-color         8124 non-null   object\n",
            " 21  population                8124 non-null   object\n",
            " 22  habitat                   8124 non-null   object\n",
            "dtypes: object(23)\n",
            "memory usage: 1.4+ MB\n"
          ]
        }
      ],
      "source": [
        "df.info()"
      ]
    },
    {
      "cell_type": "code",
      "execution_count": 62,
      "id": "ba9e7087",
      "metadata": {
        "execution": {
          "iopub.execute_input": "2022-04-01T16:12:12.511655Z",
          "iopub.status.busy": "2022-04-01T16:12:12.510684Z",
          "iopub.status.idle": "2022-04-01T16:12:12.538683Z",
          "shell.execute_reply": "2022-04-01T16:12:12.539178Z",
          "shell.execute_reply.started": "2022-04-01T16:10:19.158548Z"
        },
        "papermill": {
          "duration": 0.066238,
          "end_time": "2022-04-01T16:12:12.539363",
          "exception": false,
          "start_time": "2022-04-01T16:12:12.473125",
          "status": "completed"
        },
        "tags": [],
        "colab": {
          "base_uri": "https://localhost:8080/"
        },
        "id": "ba9e7087",
        "outputId": "764eed1a-dab9-4bbd-9785-85037f27318e"
      },
      "outputs": [
        {
          "output_type": "execute_result",
          "data": {
            "text/plain": [
              "class                       0\n",
              "cap-shape                   0\n",
              "cap-surface                 0\n",
              "cap-color                   0\n",
              "bruises                     0\n",
              "odor                        0\n",
              "gill-attachment             0\n",
              "gill-spacing                0\n",
              "gill-size                   0\n",
              "gill-color                  0\n",
              "stalk-shape                 0\n",
              "stalk-root                  0\n",
              "stalk-surface-above-ring    0\n",
              "stalk-surface-below-ring    0\n",
              "stalk-color-above-ring      0\n",
              "stalk-color-below-ring      0\n",
              "veil-type                   0\n",
              "veil-color                  0\n",
              "ring-number                 0\n",
              "ring-type                   0\n",
              "spore-print-color           0\n",
              "population                  0\n",
              "habitat                     0\n",
              "dtype: int64"
            ]
          },
          "metadata": {},
          "execution_count": 62
        }
      ],
      "source": [
        "df.isnull().sum()"
      ]
    },
    {
      "cell_type": "code",
      "execution_count": 35,
      "id": "077773f7",
      "metadata": {
        "execution": {
          "iopub.execute_input": "2022-04-01T16:12:12.681624Z",
          "iopub.status.busy": "2022-04-01T16:12:12.680960Z",
          "iopub.status.idle": "2022-04-01T16:12:12.710919Z",
          "shell.execute_reply": "2022-04-01T16:12:12.710114Z",
          "shell.execute_reply.started": "2022-04-01T16:10:19.189915Z"
        },
        "papermill": {
          "duration": 0.067208,
          "end_time": "2022-04-01T16:12:12.711111",
          "exception": false,
          "start_time": "2022-04-01T16:12:12.643903",
          "status": "completed"
        },
        "tags": [],
        "colab": {
          "base_uri": "https://localhost:8080/"
        },
        "id": "077773f7",
        "outputId": "b718ad23-6e6f-4a22-c11b-b658788decf8"
      },
      "outputs": [
        {
          "output_type": "stream",
          "name": "stdout",
          "text": [
            "class  :  ['p' 'e']\n",
            "cap-shape  :  ['x' 'b' 's' 'f' 'k' 'c']\n",
            "cap-surface  :  ['s' 'y' 'f' 'g']\n",
            "cap-color  :  ['n' 'y' 'w' 'g' 'e' 'p' 'b' 'u' 'c' 'r']\n",
            "bruises  :  ['t' 'f']\n",
            "odor  :  ['p' 'a' 'l' 'n' 'f' 'c' 'y' 's' 'm']\n",
            "gill-attachment  :  ['f' 'a']\n",
            "gill-spacing  :  ['c' 'w']\n",
            "gill-size  :  ['n' 'b']\n",
            "gill-color  :  ['k' 'n' 'g' 'p' 'w' 'h' 'u' 'e' 'b' 'r' 'y' 'o']\n",
            "stalk-shape  :  ['e' 't']\n",
            "stalk-root  :  ['e' 'c' 'b' 'r' '?']\n",
            "stalk-surface-above-ring  :  ['s' 'f' 'k' 'y']\n",
            "stalk-surface-below-ring  :  ['s' 'f' 'y' 'k']\n",
            "stalk-color-above-ring  :  ['w' 'g' 'p' 'n' 'b' 'e' 'o' 'c' 'y']\n",
            "stalk-color-below-ring  :  ['w' 'p' 'g' 'b' 'n' 'e' 'y' 'o' 'c']\n",
            "veil-type  :  ['p']\n",
            "veil-color  :  ['w' 'n' 'o' 'y']\n",
            "ring-number  :  ['o' 't' 'n']\n",
            "ring-type  :  ['p' 'e' 'l' 'f' 'n']\n",
            "spore-print-color  :  ['k' 'n' 'u' 'h' 'w' 'r' 'o' 'y' 'b']\n",
            "population  :  ['s' 'n' 'a' 'v' 'y' 'c']\n",
            "habitat  :  ['u' 'g' 'm' 'd' 'p' 'w' 'l']\n"
          ]
        }
      ],
      "source": [
        "#unique for object data type\n",
        "for col in df.columns:\n",
        "    print(col, \" : \", df[col].unique())"
      ]
    },
    {
      "cell_type": "code",
      "execution_count": 36,
      "id": "f27c1b98",
      "metadata": {
        "execution": {
          "iopub.execute_input": "2022-04-01T16:12:12.790727Z",
          "iopub.status.busy": "2022-04-01T16:12:12.789841Z",
          "iopub.status.idle": "2022-04-01T16:12:13.014746Z",
          "shell.execute_reply": "2022-04-01T16:12:13.015290Z",
          "shell.execute_reply.started": "2022-04-01T16:10:19.228305Z"
        },
        "papermill": {
          "duration": 0.268131,
          "end_time": "2022-04-01T16:12:13.015465",
          "exception": false,
          "start_time": "2022-04-01T16:12:12.747334",
          "status": "completed"
        },
        "tags": [],
        "colab": {
          "base_uri": "https://localhost:8080/",
          "height": 332
        },
        "id": "f27c1b98",
        "outputId": "07b24114-6f11-4320-dcd3-2141343a712c"
      },
      "outputs": [
        {
          "output_type": "execute_result",
          "data": {
            "text/plain": [
              "   class  cap-shape  cap-surface  cap-color  bruises  odor  gill-attachment  \\\n",
              "0      1          5            2          4        1     6                1   \n",
              "1      0          5            2          9        1     0                1   \n",
              "2      0          0            2          8        1     3                1   \n",
              "3      1          5            3          8        1     6                1   \n",
              "4      0          5            2          3        0     5                1   \n",
              "\n",
              "   gill-spacing  gill-size  gill-color  ...  stalk-surface-below-ring  \\\n",
              "0             0          1           4  ...                         2   \n",
              "1             0          0           4  ...                         2   \n",
              "2             0          0           5  ...                         2   \n",
              "3             0          1           5  ...                         2   \n",
              "4             1          0           4  ...                         2   \n",
              "\n",
              "   stalk-color-above-ring  stalk-color-below-ring  veil-type  veil-color  \\\n",
              "0                       7                       7          0           2   \n",
              "1                       7                       7          0           2   \n",
              "2                       7                       7          0           2   \n",
              "3                       7                       7          0           2   \n",
              "4                       7                       7          0           2   \n",
              "\n",
              "   ring-number  ring-type  spore-print-color  population  habitat  \n",
              "0            1          4                  2           3        5  \n",
              "1            1          4                  3           2        1  \n",
              "2            1          4                  3           2        3  \n",
              "3            1          4                  2           3        5  \n",
              "4            1          0                  3           0        1  \n",
              "\n",
              "[5 rows x 23 columns]"
            ],
            "text/html": [
              "\n",
              "  <div id=\"df-484c397f-07e9-4862-8a9a-dbb2d82b611c\">\n",
              "    <div class=\"colab-df-container\">\n",
              "      <div>\n",
              "<style scoped>\n",
              "    .dataframe tbody tr th:only-of-type {\n",
              "        vertical-align: middle;\n",
              "    }\n",
              "\n",
              "    .dataframe tbody tr th {\n",
              "        vertical-align: top;\n",
              "    }\n",
              "\n",
              "    .dataframe thead th {\n",
              "        text-align: right;\n",
              "    }\n",
              "</style>\n",
              "<table border=\"1\" class=\"dataframe\">\n",
              "  <thead>\n",
              "    <tr style=\"text-align: right;\">\n",
              "      <th></th>\n",
              "      <th>class</th>\n",
              "      <th>cap-shape</th>\n",
              "      <th>cap-surface</th>\n",
              "      <th>cap-color</th>\n",
              "      <th>bruises</th>\n",
              "      <th>odor</th>\n",
              "      <th>gill-attachment</th>\n",
              "      <th>gill-spacing</th>\n",
              "      <th>gill-size</th>\n",
              "      <th>gill-color</th>\n",
              "      <th>...</th>\n",
              "      <th>stalk-surface-below-ring</th>\n",
              "      <th>stalk-color-above-ring</th>\n",
              "      <th>stalk-color-below-ring</th>\n",
              "      <th>veil-type</th>\n",
              "      <th>veil-color</th>\n",
              "      <th>ring-number</th>\n",
              "      <th>ring-type</th>\n",
              "      <th>spore-print-color</th>\n",
              "      <th>population</th>\n",
              "      <th>habitat</th>\n",
              "    </tr>\n",
              "  </thead>\n",
              "  <tbody>\n",
              "    <tr>\n",
              "      <th>0</th>\n",
              "      <td>1</td>\n",
              "      <td>5</td>\n",
              "      <td>2</td>\n",
              "      <td>4</td>\n",
              "      <td>1</td>\n",
              "      <td>6</td>\n",
              "      <td>1</td>\n",
              "      <td>0</td>\n",
              "      <td>1</td>\n",
              "      <td>4</td>\n",
              "      <td>...</td>\n",
              "      <td>2</td>\n",
              "      <td>7</td>\n",
              "      <td>7</td>\n",
              "      <td>0</td>\n",
              "      <td>2</td>\n",
              "      <td>1</td>\n",
              "      <td>4</td>\n",
              "      <td>2</td>\n",
              "      <td>3</td>\n",
              "      <td>5</td>\n",
              "    </tr>\n",
              "    <tr>\n",
              "      <th>1</th>\n",
              "      <td>0</td>\n",
              "      <td>5</td>\n",
              "      <td>2</td>\n",
              "      <td>9</td>\n",
              "      <td>1</td>\n",
              "      <td>0</td>\n",
              "      <td>1</td>\n",
              "      <td>0</td>\n",
              "      <td>0</td>\n",
              "      <td>4</td>\n",
              "      <td>...</td>\n",
              "      <td>2</td>\n",
              "      <td>7</td>\n",
              "      <td>7</td>\n",
              "      <td>0</td>\n",
              "      <td>2</td>\n",
              "      <td>1</td>\n",
              "      <td>4</td>\n",
              "      <td>3</td>\n",
              "      <td>2</td>\n",
              "      <td>1</td>\n",
              "    </tr>\n",
              "    <tr>\n",
              "      <th>2</th>\n",
              "      <td>0</td>\n",
              "      <td>0</td>\n",
              "      <td>2</td>\n",
              "      <td>8</td>\n",
              "      <td>1</td>\n",
              "      <td>3</td>\n",
              "      <td>1</td>\n",
              "      <td>0</td>\n",
              "      <td>0</td>\n",
              "      <td>5</td>\n",
              "      <td>...</td>\n",
              "      <td>2</td>\n",
              "      <td>7</td>\n",
              "      <td>7</td>\n",
              "      <td>0</td>\n",
              "      <td>2</td>\n",
              "      <td>1</td>\n",
              "      <td>4</td>\n",
              "      <td>3</td>\n",
              "      <td>2</td>\n",
              "      <td>3</td>\n",
              "    </tr>\n",
              "    <tr>\n",
              "      <th>3</th>\n",
              "      <td>1</td>\n",
              "      <td>5</td>\n",
              "      <td>3</td>\n",
              "      <td>8</td>\n",
              "      <td>1</td>\n",
              "      <td>6</td>\n",
              "      <td>1</td>\n",
              "      <td>0</td>\n",
              "      <td>1</td>\n",
              "      <td>5</td>\n",
              "      <td>...</td>\n",
              "      <td>2</td>\n",
              "      <td>7</td>\n",
              "      <td>7</td>\n",
              "      <td>0</td>\n",
              "      <td>2</td>\n",
              "      <td>1</td>\n",
              "      <td>4</td>\n",
              "      <td>2</td>\n",
              "      <td>3</td>\n",
              "      <td>5</td>\n",
              "    </tr>\n",
              "    <tr>\n",
              "      <th>4</th>\n",
              "      <td>0</td>\n",
              "      <td>5</td>\n",
              "      <td>2</td>\n",
              "      <td>3</td>\n",
              "      <td>0</td>\n",
              "      <td>5</td>\n",
              "      <td>1</td>\n",
              "      <td>1</td>\n",
              "      <td>0</td>\n",
              "      <td>4</td>\n",
              "      <td>...</td>\n",
              "      <td>2</td>\n",
              "      <td>7</td>\n",
              "      <td>7</td>\n",
              "      <td>0</td>\n",
              "      <td>2</td>\n",
              "      <td>1</td>\n",
              "      <td>0</td>\n",
              "      <td>3</td>\n",
              "      <td>0</td>\n",
              "      <td>1</td>\n",
              "    </tr>\n",
              "  </tbody>\n",
              "</table>\n",
              "<p>5 rows × 23 columns</p>\n",
              "</div>\n",
              "      <button class=\"colab-df-convert\" onclick=\"convertToInteractive('df-484c397f-07e9-4862-8a9a-dbb2d82b611c')\"\n",
              "              title=\"Convert this dataframe to an interactive table.\"\n",
              "              style=\"display:none;\">\n",
              "        \n",
              "  <svg xmlns=\"http://www.w3.org/2000/svg\" height=\"24px\"viewBox=\"0 0 24 24\"\n",
              "       width=\"24px\">\n",
              "    <path d=\"M0 0h24v24H0V0z\" fill=\"none\"/>\n",
              "    <path d=\"M18.56 5.44l.94 2.06.94-2.06 2.06-.94-2.06-.94-.94-2.06-.94 2.06-2.06.94zm-11 1L8.5 8.5l.94-2.06 2.06-.94-2.06-.94L8.5 2.5l-.94 2.06-2.06.94zm10 10l.94 2.06.94-2.06 2.06-.94-2.06-.94-.94-2.06-.94 2.06-2.06.94z\"/><path d=\"M17.41 7.96l-1.37-1.37c-.4-.4-.92-.59-1.43-.59-.52 0-1.04.2-1.43.59L10.3 9.45l-7.72 7.72c-.78.78-.78 2.05 0 2.83L4 21.41c.39.39.9.59 1.41.59.51 0 1.02-.2 1.41-.59l7.78-7.78 2.81-2.81c.8-.78.8-2.07 0-2.86zM5.41 20L4 18.59l7.72-7.72 1.47 1.35L5.41 20z\"/>\n",
              "  </svg>\n",
              "      </button>\n",
              "      \n",
              "  <style>\n",
              "    .colab-df-container {\n",
              "      display:flex;\n",
              "      flex-wrap:wrap;\n",
              "      gap: 12px;\n",
              "    }\n",
              "\n",
              "    .colab-df-convert {\n",
              "      background-color: #E8F0FE;\n",
              "      border: none;\n",
              "      border-radius: 50%;\n",
              "      cursor: pointer;\n",
              "      display: none;\n",
              "      fill: #1967D2;\n",
              "      height: 32px;\n",
              "      padding: 0 0 0 0;\n",
              "      width: 32px;\n",
              "    }\n",
              "\n",
              "    .colab-df-convert:hover {\n",
              "      background-color: #E2EBFA;\n",
              "      box-shadow: 0px 1px 2px rgba(60, 64, 67, 0.3), 0px 1px 3px 1px rgba(60, 64, 67, 0.15);\n",
              "      fill: #174EA6;\n",
              "    }\n",
              "\n",
              "    [theme=dark] .colab-df-convert {\n",
              "      background-color: #3B4455;\n",
              "      fill: #D2E3FC;\n",
              "    }\n",
              "\n",
              "    [theme=dark] .colab-df-convert:hover {\n",
              "      background-color: #434B5C;\n",
              "      box-shadow: 0px 1px 3px 1px rgba(0, 0, 0, 0.15);\n",
              "      filter: drop-shadow(0px 1px 2px rgba(0, 0, 0, 0.3));\n",
              "      fill: #FFFFFF;\n",
              "    }\n",
              "  </style>\n",
              "\n",
              "      <script>\n",
              "        const buttonEl =\n",
              "          document.querySelector('#df-484c397f-07e9-4862-8a9a-dbb2d82b611c button.colab-df-convert');\n",
              "        buttonEl.style.display =\n",
              "          google.colab.kernel.accessAllowed ? 'block' : 'none';\n",
              "\n",
              "        async function convertToInteractive(key) {\n",
              "          const element = document.querySelector('#df-484c397f-07e9-4862-8a9a-dbb2d82b611c');\n",
              "          const dataTable =\n",
              "            await google.colab.kernel.invokeFunction('convertToInteractive',\n",
              "                                                     [key], {});\n",
              "          if (!dataTable) return;\n",
              "\n",
              "          const docLinkHtml = 'Like what you see? Visit the ' +\n",
              "            '<a target=\"_blank\" href=https://colab.research.google.com/notebooks/data_table.ipynb>data table notebook</a>'\n",
              "            + ' to learn more about interactive tables.';\n",
              "          element.innerHTML = '';\n",
              "          dataTable['output_type'] = 'display_data';\n",
              "          await google.colab.output.renderOutput(dataTable, element);\n",
              "          const docLink = document.createElement('div');\n",
              "          docLink.innerHTML = docLinkHtml;\n",
              "          element.appendChild(docLink);\n",
              "        }\n",
              "      </script>\n",
              "    </div>\n",
              "  </div>\n",
              "  "
            ]
          },
          "metadata": {},
          "execution_count": 36
        }
      ],
      "source": [
        "from sklearn.preprocessing import LabelEncoder\n",
        "def label_encoding(c):\n",
        "    le = LabelEncoder()\n",
        "    df[c] = le.fit_transform(df[c])\n",
        "    df[c].unique()\n",
        "for col in df.columns:\n",
        "    label_encoding(col)\n",
        "df.head()"
      ]
    },
    {
      "cell_type": "markdown",
      "id": "20533818",
      "metadata": {
        "papermill": {
          "duration": 0.035473,
          "end_time": "2022-04-01T16:12:13.086938",
          "exception": false,
          "start_time": "2022-04-01T16:12:13.051465",
          "status": "completed"
        },
        "tags": [],
        "id": "20533818"
      },
      "source": [
        "## Feature Selection"
      ]
    },
    {
      "cell_type": "code",
      "execution_count": 37,
      "id": "5de04432",
      "metadata": {
        "execution": {
          "iopub.execute_input": "2022-04-01T16:12:13.163480Z",
          "iopub.status.busy": "2022-04-01T16:12:13.162510Z",
          "iopub.status.idle": "2022-04-01T16:12:13.359986Z",
          "shell.execute_reply": "2022-04-01T16:12:13.359350Z",
          "shell.execute_reply.started": "2022-04-01T16:10:19.372286Z"
        },
        "papermill": {
          "duration": 0.236392,
          "end_time": "2022-04-01T16:12:13.360135",
          "exception": false,
          "start_time": "2022-04-01T16:12:13.123743",
          "status": "completed"
        },
        "tags": [],
        "id": "5de04432"
      },
      "outputs": [],
      "source": [
        "from sklearn.feature_selection import SelectKBest\n",
        "from sklearn.feature_selection import chi2\n",
        "X = df.iloc[:, 1:]\n",
        "y = df.iloc[:, 0]"
      ]
    },
    {
      "cell_type": "code",
      "execution_count": 38,
      "id": "b3152573",
      "metadata": {
        "execution": {
          "iopub.execute_input": "2022-04-01T16:12:13.436308Z",
          "iopub.status.busy": "2022-04-01T16:12:13.435326Z",
          "iopub.status.idle": "2022-04-01T16:12:13.450635Z",
          "shell.execute_reply": "2022-04-01T16:12:13.451169Z",
          "shell.execute_reply.started": "2022-04-01T16:10:19.437480Z"
        },
        "papermill": {
          "duration": 0.055019,
          "end_time": "2022-04-01T16:12:13.451343",
          "exception": false,
          "start_time": "2022-04-01T16:12:13.396324",
          "status": "completed"
        },
        "tags": [],
        "id": "b3152573"
      },
      "outputs": [],
      "source": [
        "#apply SelectKBest class to extract top 10 best features\n",
        "bestfeatures = SelectKBest(score_func=chi2, k=10)\n",
        "fit = bestfeatures.fit(X,y)"
      ]
    },
    {
      "cell_type": "code",
      "execution_count": 39,
      "id": "c4546871",
      "metadata": {
        "execution": {
          "iopub.execute_input": "2022-04-01T16:12:13.526558Z",
          "iopub.status.busy": "2022-04-01T16:12:13.525923Z",
          "iopub.status.idle": "2022-04-01T16:12:13.530028Z",
          "shell.execute_reply": "2022-04-01T16:12:13.530637Z",
          "shell.execute_reply.started": "2022-04-01T16:10:19.455531Z"
        },
        "papermill": {
          "duration": 0.043387,
          "end_time": "2022-04-01T16:12:13.530812",
          "exception": false,
          "start_time": "2022-04-01T16:12:13.487425",
          "status": "completed"
        },
        "tags": [],
        "id": "c4546871"
      },
      "outputs": [],
      "source": [
        "dfscores = pd.DataFrame(fit.scores_)\n",
        "dfcolumns = pd.DataFrame(X.columns)"
      ]
    },
    {
      "cell_type": "code",
      "execution_count": 40,
      "id": "f7fdfe53",
      "metadata": {
        "execution": {
          "iopub.execute_input": "2022-04-01T16:12:13.605510Z",
          "iopub.status.busy": "2022-04-01T16:12:13.604892Z",
          "iopub.status.idle": "2022-04-01T16:12:13.609564Z",
          "shell.execute_reply": "2022-04-01T16:12:13.610096Z",
          "shell.execute_reply.started": "2022-04-01T16:10:19.467348Z"
        },
        "papermill": {
          "duration": 0.0436,
          "end_time": "2022-04-01T16:12:13.610263",
          "exception": false,
          "start_time": "2022-04-01T16:12:13.566663",
          "status": "completed"
        },
        "tags": [],
        "id": "f7fdfe53"
      },
      "outputs": [],
      "source": [
        "#concat two dataframes for better visualization \n",
        "featureScores = pd.concat([dfcolumns,dfscores],axis=1)\n",
        "featureScores.columns = ['Specs','Score']  #naming the dataframe columns"
      ]
    },
    {
      "cell_type": "code",
      "execution_count": 41,
      "id": "313f6843",
      "metadata": {
        "execution": {
          "iopub.execute_input": "2022-04-01T16:12:13.687511Z",
          "iopub.status.busy": "2022-04-01T16:12:13.686870Z",
          "iopub.status.idle": "2022-04-01T16:12:13.697466Z",
          "shell.execute_reply": "2022-04-01T16:12:13.698018Z",
          "shell.execute_reply.started": "2022-04-01T16:10:19.486131Z"
        },
        "papermill": {
          "duration": 0.049755,
          "end_time": "2022-04-01T16:12:13.698184",
          "exception": false,
          "start_time": "2022-04-01T16:12:13.648429",
          "status": "completed"
        },
        "tags": [],
        "colab": {
          "base_uri": "https://localhost:8080/",
          "height": 739
        },
        "id": "313f6843",
        "outputId": "2704c921-b0b5-4745-c94d-b4062660c28b"
      },
      "outputs": [
        {
          "output_type": "execute_result",
          "data": {
            "text/plain": [
              "                       Specs        Score\n",
              "0                  cap-shape    17.508364\n",
              "1                cap-surface   214.068544\n",
              "2                  cap-color    11.511382\n",
              "3                    bruises  1194.277352\n",
              "4                       odor    75.910163\n",
              "5            gill-attachment     3.505447\n",
              "6               gill-spacing   826.795274\n",
              "7                  gill-size  1636.606833\n",
              "8                 gill-color  5957.764469\n",
              "9                stalk-shape    36.594105\n",
              "10                stalk-root  1186.029221\n",
              "11  stalk-surface-above-ring   222.982400\n",
              "12  stalk-surface-below-ring   206.648180\n",
              "13    stalk-color-above-ring   119.792216\n",
              "14    stalk-color-below-ring   109.789410\n",
              "15                 veil-type          NaN\n",
              "16                veil-color     5.126826\n",
              "17               ring-number    25.646335\n",
              "18                 ring-type  1950.610146\n",
              "19         spore-print-color   379.132729\n",
              "20                population   311.766736\n",
              "21                   habitat   751.309489"
            ],
            "text/html": [
              "\n",
              "  <div id=\"df-f14550c6-7a5f-491e-b71d-d0c089aa878e\">\n",
              "    <div class=\"colab-df-container\">\n",
              "      <div>\n",
              "<style scoped>\n",
              "    .dataframe tbody tr th:only-of-type {\n",
              "        vertical-align: middle;\n",
              "    }\n",
              "\n",
              "    .dataframe tbody tr th {\n",
              "        vertical-align: top;\n",
              "    }\n",
              "\n",
              "    .dataframe thead th {\n",
              "        text-align: right;\n",
              "    }\n",
              "</style>\n",
              "<table border=\"1\" class=\"dataframe\">\n",
              "  <thead>\n",
              "    <tr style=\"text-align: right;\">\n",
              "      <th></th>\n",
              "      <th>Specs</th>\n",
              "      <th>Score</th>\n",
              "    </tr>\n",
              "  </thead>\n",
              "  <tbody>\n",
              "    <tr>\n",
              "      <th>0</th>\n",
              "      <td>cap-shape</td>\n",
              "      <td>17.508364</td>\n",
              "    </tr>\n",
              "    <tr>\n",
              "      <th>1</th>\n",
              "      <td>cap-surface</td>\n",
              "      <td>214.068544</td>\n",
              "    </tr>\n",
              "    <tr>\n",
              "      <th>2</th>\n",
              "      <td>cap-color</td>\n",
              "      <td>11.511382</td>\n",
              "    </tr>\n",
              "    <tr>\n",
              "      <th>3</th>\n",
              "      <td>bruises</td>\n",
              "      <td>1194.277352</td>\n",
              "    </tr>\n",
              "    <tr>\n",
              "      <th>4</th>\n",
              "      <td>odor</td>\n",
              "      <td>75.910163</td>\n",
              "    </tr>\n",
              "    <tr>\n",
              "      <th>5</th>\n",
              "      <td>gill-attachment</td>\n",
              "      <td>3.505447</td>\n",
              "    </tr>\n",
              "    <tr>\n",
              "      <th>6</th>\n",
              "      <td>gill-spacing</td>\n",
              "      <td>826.795274</td>\n",
              "    </tr>\n",
              "    <tr>\n",
              "      <th>7</th>\n",
              "      <td>gill-size</td>\n",
              "      <td>1636.606833</td>\n",
              "    </tr>\n",
              "    <tr>\n",
              "      <th>8</th>\n",
              "      <td>gill-color</td>\n",
              "      <td>5957.764469</td>\n",
              "    </tr>\n",
              "    <tr>\n",
              "      <th>9</th>\n",
              "      <td>stalk-shape</td>\n",
              "      <td>36.594105</td>\n",
              "    </tr>\n",
              "    <tr>\n",
              "      <th>10</th>\n",
              "      <td>stalk-root</td>\n",
              "      <td>1186.029221</td>\n",
              "    </tr>\n",
              "    <tr>\n",
              "      <th>11</th>\n",
              "      <td>stalk-surface-above-ring</td>\n",
              "      <td>222.982400</td>\n",
              "    </tr>\n",
              "    <tr>\n",
              "      <th>12</th>\n",
              "      <td>stalk-surface-below-ring</td>\n",
              "      <td>206.648180</td>\n",
              "    </tr>\n",
              "    <tr>\n",
              "      <th>13</th>\n",
              "      <td>stalk-color-above-ring</td>\n",
              "      <td>119.792216</td>\n",
              "    </tr>\n",
              "    <tr>\n",
              "      <th>14</th>\n",
              "      <td>stalk-color-below-ring</td>\n",
              "      <td>109.789410</td>\n",
              "    </tr>\n",
              "    <tr>\n",
              "      <th>15</th>\n",
              "      <td>veil-type</td>\n",
              "      <td>NaN</td>\n",
              "    </tr>\n",
              "    <tr>\n",
              "      <th>16</th>\n",
              "      <td>veil-color</td>\n",
              "      <td>5.126826</td>\n",
              "    </tr>\n",
              "    <tr>\n",
              "      <th>17</th>\n",
              "      <td>ring-number</td>\n",
              "      <td>25.646335</td>\n",
              "    </tr>\n",
              "    <tr>\n",
              "      <th>18</th>\n",
              "      <td>ring-type</td>\n",
              "      <td>1950.610146</td>\n",
              "    </tr>\n",
              "    <tr>\n",
              "      <th>19</th>\n",
              "      <td>spore-print-color</td>\n",
              "      <td>379.132729</td>\n",
              "    </tr>\n",
              "    <tr>\n",
              "      <th>20</th>\n",
              "      <td>population</td>\n",
              "      <td>311.766736</td>\n",
              "    </tr>\n",
              "    <tr>\n",
              "      <th>21</th>\n",
              "      <td>habitat</td>\n",
              "      <td>751.309489</td>\n",
              "    </tr>\n",
              "  </tbody>\n",
              "</table>\n",
              "</div>\n",
              "      <button class=\"colab-df-convert\" onclick=\"convertToInteractive('df-f14550c6-7a5f-491e-b71d-d0c089aa878e')\"\n",
              "              title=\"Convert this dataframe to an interactive table.\"\n",
              "              style=\"display:none;\">\n",
              "        \n",
              "  <svg xmlns=\"http://www.w3.org/2000/svg\" height=\"24px\"viewBox=\"0 0 24 24\"\n",
              "       width=\"24px\">\n",
              "    <path d=\"M0 0h24v24H0V0z\" fill=\"none\"/>\n",
              "    <path d=\"M18.56 5.44l.94 2.06.94-2.06 2.06-.94-2.06-.94-.94-2.06-.94 2.06-2.06.94zm-11 1L8.5 8.5l.94-2.06 2.06-.94-2.06-.94L8.5 2.5l-.94 2.06-2.06.94zm10 10l.94 2.06.94-2.06 2.06-.94-2.06-.94-.94-2.06-.94 2.06-2.06.94z\"/><path d=\"M17.41 7.96l-1.37-1.37c-.4-.4-.92-.59-1.43-.59-.52 0-1.04.2-1.43.59L10.3 9.45l-7.72 7.72c-.78.78-.78 2.05 0 2.83L4 21.41c.39.39.9.59 1.41.59.51 0 1.02-.2 1.41-.59l7.78-7.78 2.81-2.81c.8-.78.8-2.07 0-2.86zM5.41 20L4 18.59l7.72-7.72 1.47 1.35L5.41 20z\"/>\n",
              "  </svg>\n",
              "      </button>\n",
              "      \n",
              "  <style>\n",
              "    .colab-df-container {\n",
              "      display:flex;\n",
              "      flex-wrap:wrap;\n",
              "      gap: 12px;\n",
              "    }\n",
              "\n",
              "    .colab-df-convert {\n",
              "      background-color: #E8F0FE;\n",
              "      border: none;\n",
              "      border-radius: 50%;\n",
              "      cursor: pointer;\n",
              "      display: none;\n",
              "      fill: #1967D2;\n",
              "      height: 32px;\n",
              "      padding: 0 0 0 0;\n",
              "      width: 32px;\n",
              "    }\n",
              "\n",
              "    .colab-df-convert:hover {\n",
              "      background-color: #E2EBFA;\n",
              "      box-shadow: 0px 1px 2px rgba(60, 64, 67, 0.3), 0px 1px 3px 1px rgba(60, 64, 67, 0.15);\n",
              "      fill: #174EA6;\n",
              "    }\n",
              "\n",
              "    [theme=dark] .colab-df-convert {\n",
              "      background-color: #3B4455;\n",
              "      fill: #D2E3FC;\n",
              "    }\n",
              "\n",
              "    [theme=dark] .colab-df-convert:hover {\n",
              "      background-color: #434B5C;\n",
              "      box-shadow: 0px 1px 3px 1px rgba(0, 0, 0, 0.15);\n",
              "      filter: drop-shadow(0px 1px 2px rgba(0, 0, 0, 0.3));\n",
              "      fill: #FFFFFF;\n",
              "    }\n",
              "  </style>\n",
              "\n",
              "      <script>\n",
              "        const buttonEl =\n",
              "          document.querySelector('#df-f14550c6-7a5f-491e-b71d-d0c089aa878e button.colab-df-convert');\n",
              "        buttonEl.style.display =\n",
              "          google.colab.kernel.accessAllowed ? 'block' : 'none';\n",
              "\n",
              "        async function convertToInteractive(key) {\n",
              "          const element = document.querySelector('#df-f14550c6-7a5f-491e-b71d-d0c089aa878e');\n",
              "          const dataTable =\n",
              "            await google.colab.kernel.invokeFunction('convertToInteractive',\n",
              "                                                     [key], {});\n",
              "          if (!dataTable) return;\n",
              "\n",
              "          const docLinkHtml = 'Like what you see? Visit the ' +\n",
              "            '<a target=\"_blank\" href=https://colab.research.google.com/notebooks/data_table.ipynb>data table notebook</a>'\n",
              "            + ' to learn more about interactive tables.';\n",
              "          element.innerHTML = '';\n",
              "          dataTable['output_type'] = 'display_data';\n",
              "          await google.colab.output.renderOutput(dataTable, element);\n",
              "          const docLink = document.createElement('div');\n",
              "          docLink.innerHTML = docLinkHtml;\n",
              "          element.appendChild(docLink);\n",
              "        }\n",
              "      </script>\n",
              "    </div>\n",
              "  </div>\n",
              "  "
            ]
          },
          "metadata": {},
          "execution_count": 41
        }
      ],
      "source": [
        "featureScores"
      ]
    },
    {
      "cell_type": "code",
      "execution_count": 42,
      "id": "6af63d7c",
      "metadata": {
        "execution": {
          "iopub.execute_input": "2022-04-01T16:12:13.774727Z",
          "iopub.status.busy": "2022-04-01T16:12:13.774049Z",
          "iopub.status.idle": "2022-04-01T16:12:13.786940Z",
          "shell.execute_reply": "2022-04-01T16:12:13.787578Z",
          "shell.execute_reply.started": "2022-04-01T16:10:19.507941Z"
        },
        "papermill": {
          "duration": 0.053001,
          "end_time": "2022-04-01T16:12:13.787773",
          "exception": false,
          "start_time": "2022-04-01T16:12:13.734772",
          "status": "completed"
        },
        "tags": [],
        "colab": {
          "base_uri": "https://localhost:8080/"
        },
        "id": "6af63d7c",
        "outputId": "03c45cb0-101d-4a25-8181-83ad20b8def7"
      },
      "outputs": [
        {
          "output_type": "stream",
          "name": "stdout",
          "text": [
            "                       Specs        Score\n",
            "8                 gill-color  5957.764469\n",
            "18                 ring-type  1950.610146\n",
            "7                  gill-size  1636.606833\n",
            "3                    bruises  1194.277352\n",
            "10                stalk-root  1186.029221\n",
            "6               gill-spacing   826.795274\n",
            "21                   habitat   751.309489\n",
            "19         spore-print-color   379.132729\n",
            "20                population   311.766736\n",
            "11  stalk-surface-above-ring   222.982400\n"
          ]
        }
      ],
      "source": [
        "print(featureScores.nlargest(10,'Score'))  #print 10 best features"
      ]
    },
    {
      "cell_type": "code",
      "execution_count": 43,
      "id": "336a26f4",
      "metadata": {
        "execution": {
          "iopub.execute_input": "2022-04-01T16:12:13.865720Z",
          "iopub.status.busy": "2022-04-01T16:12:13.865043Z",
          "iopub.status.idle": "2022-04-01T16:12:13.870733Z",
          "shell.execute_reply": "2022-04-01T16:12:13.871264Z",
          "shell.execute_reply.started": "2022-04-01T16:10:19.523292Z"
        },
        "papermill": {
          "duration": 0.046109,
          "end_time": "2022-04-01T16:12:13.871439",
          "exception": false,
          "start_time": "2022-04-01T16:12:13.825330",
          "status": "completed"
        },
        "tags": [],
        "id": "336a26f4"
      },
      "outputs": [],
      "source": [
        "# to remove the rest of the features:\n",
        "X = bestfeatures.transform(X)"
      ]
    },
    {
      "cell_type": "code",
      "execution_count": 44,
      "id": "bd528ce6",
      "metadata": {
        "execution": {
          "iopub.execute_input": "2022-04-01T16:12:13.949815Z",
          "iopub.status.busy": "2022-04-01T16:12:13.949186Z",
          "iopub.status.idle": "2022-04-01T16:12:13.953899Z",
          "shell.execute_reply": "2022-04-01T16:12:13.954465Z",
          "shell.execute_reply.started": "2022-04-01T16:10:19.541322Z"
        },
        "papermill": {
          "duration": 0.046005,
          "end_time": "2022-04-01T16:12:13.954641",
          "exception": false,
          "start_time": "2022-04-01T16:12:13.908636",
          "status": "completed"
        },
        "tags": [],
        "colab": {
          "base_uri": "https://localhost:8080/"
        },
        "id": "bd528ce6",
        "outputId": "befc8b55-f4bc-4984-f8b4-901171e4e4af"
      },
      "outputs": [
        {
          "output_type": "execute_result",
          "data": {
            "text/plain": [
              "array([[1, 0, 1, ..., 2, 3, 5],\n",
              "       [1, 0, 0, ..., 3, 2, 1],\n",
              "       [1, 0, 0, ..., 3, 2, 3],\n",
              "       ...,\n",
              "       [0, 0, 0, ..., 0, 1, 2],\n",
              "       [0, 0, 1, ..., 7, 4, 2],\n",
              "       [0, 0, 0, ..., 4, 1, 2]])"
            ]
          },
          "metadata": {},
          "execution_count": 44
        }
      ],
      "source": [
        "X"
      ]
    },
    {
      "cell_type": "code",
      "execution_count": 45,
      "id": "5a3bf63f",
      "metadata": {
        "execution": {
          "iopub.execute_input": "2022-04-01T16:12:14.033442Z",
          "iopub.status.busy": "2022-04-01T16:12:14.032807Z",
          "iopub.status.idle": "2022-04-01T16:12:14.038988Z",
          "shell.execute_reply": "2022-04-01T16:12:14.039513Z",
          "shell.execute_reply.started": "2022-04-01T16:10:19.556703Z"
        },
        "papermill": {
          "duration": 0.047715,
          "end_time": "2022-04-01T16:12:14.039700",
          "exception": false,
          "start_time": "2022-04-01T16:12:13.991985",
          "status": "completed"
        },
        "tags": [],
        "colab": {
          "base_uri": "https://localhost:8080/"
        },
        "id": "5a3bf63f",
        "outputId": "c82bba92-d0c7-4d26-9edf-361c3f10c1cf"
      },
      "outputs": [
        {
          "output_type": "execute_result",
          "data": {
            "text/plain": [
              "0       1\n",
              "1       0\n",
              "2       0\n",
              "3       1\n",
              "4       0\n",
              "       ..\n",
              "8119    0\n",
              "8120    0\n",
              "8121    0\n",
              "8122    1\n",
              "8123    0\n",
              "Name: class, Length: 8124, dtype: int64"
            ]
          },
          "metadata": {},
          "execution_count": 45
        }
      ],
      "source": [
        "y"
      ]
    },
    {
      "cell_type": "markdown",
      "id": "8e2c06f6",
      "metadata": {
        "papermill": {
          "duration": 0.037157,
          "end_time": "2022-04-01T16:12:14.114511",
          "exception": false,
          "start_time": "2022-04-01T16:12:14.077354",
          "status": "completed"
        },
        "tags": [],
        "id": "8e2c06f6"
      },
      "source": [
        "## Splitting the dataset into the Training set and Test set"
      ]
    },
    {
      "cell_type": "code",
      "execution_count": 46,
      "id": "813fd263",
      "metadata": {
        "execution": {
          "iopub.execute_input": "2022-04-01T16:12:14.192584Z",
          "iopub.status.busy": "2022-04-01T16:12:14.191930Z",
          "iopub.status.idle": "2022-04-01T16:12:14.197895Z",
          "shell.execute_reply": "2022-04-01T16:12:14.198431Z",
          "shell.execute_reply.started": "2022-04-01T16:10:19.573553Z"
        },
        "papermill": {
          "duration": 0.046547,
          "end_time": "2022-04-01T16:12:14.198616",
          "exception": false,
          "start_time": "2022-04-01T16:12:14.152069",
          "status": "completed"
        },
        "tags": [],
        "id": "813fd263"
      },
      "outputs": [],
      "source": [
        "from sklearn.model_selection import train_test_split\n",
        "X_train, X_test, y_train, y_test = train_test_split(X, y, test_size = 0.2, random_state = 0)"
      ]
    },
    {
      "cell_type": "code",
      "execution_count": 47,
      "id": "74147c28",
      "metadata": {
        "execution": {
          "iopub.execute_input": "2022-04-01T16:12:14.277292Z",
          "iopub.status.busy": "2022-04-01T16:12:14.276647Z",
          "iopub.status.idle": "2022-04-01T16:12:14.282861Z",
          "shell.execute_reply": "2022-04-01T16:12:14.283317Z",
          "shell.execute_reply.started": "2022-04-01T16:10:19.586665Z"
        },
        "papermill": {
          "duration": 0.047371,
          "end_time": "2022-04-01T16:12:14.283487",
          "exception": false,
          "start_time": "2022-04-01T16:12:14.236116",
          "status": "completed"
        },
        "tags": [],
        "id": "74147c28"
      },
      "outputs": [],
      "source": [
        "from sklearn.preprocessing import StandardScaler\n",
        "sc = StandardScaler()\n",
        "X_train = sc.fit_transform(X_train)\n",
        "X_test = sc.transform(X_test)"
      ]
    },
    {
      "cell_type": "markdown",
      "id": "9cf063fc",
      "metadata": {
        "papermill": {
          "duration": 0.037526,
          "end_time": "2022-04-01T16:12:14.433678",
          "exception": false,
          "start_time": "2022-04-01T16:12:14.396152",
          "status": "completed"
        },
        "tags": [],
        "id": "9cf063fc"
      },
      "source": [
        "## Building the ANN"
      ]
    },
    {
      "cell_type": "code",
      "execution_count": 52,
      "id": "e3ffaf4d",
      "metadata": {
        "execution": {
          "iopub.execute_input": "2022-04-01T16:12:14.512609Z",
          "iopub.status.busy": "2022-04-01T16:12:14.511932Z",
          "iopub.status.idle": "2022-04-01T16:12:15.662787Z",
          "shell.execute_reply": "2022-04-01T16:12:15.662011Z",
          "shell.execute_reply.started": "2022-04-01T16:10:19.603043Z"
        },
        "papermill": {
          "duration": 1.191532,
          "end_time": "2022-04-01T16:12:15.662986",
          "exception": false,
          "start_time": "2022-04-01T16:12:14.471454",
          "status": "completed"
        },
        "tags": [],
        "id": "e3ffaf4d"
      },
      "outputs": [],
      "source": [
        "## Initializing the ANN\n",
        "ann = tf.keras.models.Sequential()\n",
        "\n",
        "## Adding the input layer and the first hidden layer\n",
        "ann.add(tf.keras.layers.Dense(units=6,activation='relu'))\n",
        "\n",
        "## Adding the second hidden layer\n",
        "ann.add(tf.keras.layers.Dense(units=6,activation='relu'))\n",
        "\n",
        "## Adding the output layer\n",
        "ann.add(tf.keras.layers.Dense(units=1,activation='sigmoid'))"
      ]
    },
    {
      "cell_type": "markdown",
      "id": "0c6d5ec0",
      "metadata": {
        "papermill": {
          "duration": 0.038715,
          "end_time": "2022-04-01T16:12:15.740856",
          "exception": false,
          "start_time": "2022-04-01T16:12:15.702141",
          "status": "completed"
        },
        "tags": [],
        "id": "0c6d5ec0"
      },
      "source": [
        "## Compiling the ANN"
      ]
    },
    {
      "cell_type": "code",
      "execution_count": 53,
      "id": "9ed94ba5",
      "metadata": {
        "execution": {
          "iopub.execute_input": "2022-04-01T16:12:15.831991Z",
          "iopub.status.busy": "2022-04-01T16:12:15.831318Z",
          "iopub.status.idle": "2022-04-01T16:12:15.844944Z",
          "shell.execute_reply": "2022-04-01T16:12:15.845499Z",
          "shell.execute_reply.started": "2022-04-01T16:10:19.832297Z"
        },
        "papermill": {
          "duration": 0.065523,
          "end_time": "2022-04-01T16:12:15.845697",
          "exception": false,
          "start_time": "2022-04-01T16:12:15.780174",
          "status": "completed"
        },
        "tags": [],
        "id": "9ed94ba5"
      },
      "outputs": [],
      "source": [
        "ann.compile(optimizer= 'adam', loss= 'binary_crossentropy',metrics= ['accuracy'])"
      ]
    },
    {
      "cell_type": "markdown",
      "id": "5e24447f",
      "metadata": {
        "papermill": {
          "duration": 0.037851,
          "end_time": "2022-04-01T16:12:15.921712",
          "exception": false,
          "start_time": "2022-04-01T16:12:15.883861",
          "status": "completed"
        },
        "tags": [],
        "id": "5e24447f"
      },
      "source": [
        "## Training the ANN on the Training set"
      ]
    },
    {
      "cell_type": "code",
      "execution_count": 25,
      "id": "636f2be2",
      "metadata": {
        "execution": {
          "iopub.execute_input": "2022-04-01T16:12:16.002041Z",
          "iopub.status.busy": "2022-04-01T16:12:16.001382Z",
          "iopub.status.idle": "2022-04-01T16:12:27.037921Z",
          "shell.execute_reply": "2022-04-01T16:12:27.038448Z",
          "shell.execute_reply.started": "2022-04-01T16:10:19.856699Z"
        },
        "papermill": {
          "duration": 11.078974,
          "end_time": "2022-04-01T16:12:27.038664",
          "exception": false,
          "start_time": "2022-04-01T16:12:15.959690",
          "status": "completed"
        },
        "tags": [],
        "colab": {
          "base_uri": "https://localhost:8080/"
        },
        "id": "636f2be2",
        "outputId": "c2b76b71-0199-49a1-85df-f990283fb14e"
      },
      "outputs": [
        {
          "output_type": "stream",
          "name": "stdout",
          "text": [
            "Epoch 1/100\n",
            "51/51 [==============================] - 1s 1ms/step - loss: 0.6792 - accuracy: 0.5508\n",
            "Epoch 2/100\n",
            "51/51 [==============================] - 0s 1ms/step - loss: 0.5987 - accuracy: 0.6831\n",
            "Epoch 3/100\n",
            "51/51 [==============================] - 0s 1ms/step - loss: 0.5284 - accuracy: 0.7477\n",
            "Epoch 4/100\n",
            "51/51 [==============================] - 0s 1ms/step - loss: 0.4348 - accuracy: 0.8794\n",
            "Epoch 5/100\n",
            "51/51 [==============================] - 0s 1ms/step - loss: 0.3535 - accuracy: 0.9071\n",
            "Epoch 6/100\n",
            "51/51 [==============================] - 0s 2ms/step - loss: 0.3082 - accuracy: 0.9083\n",
            "Epoch 7/100\n",
            "51/51 [==============================] - 0s 1ms/step - loss: 0.2743 - accuracy: 0.9132\n",
            "Epoch 8/100\n",
            "51/51 [==============================] - 0s 954us/step - loss: 0.2462 - accuracy: 0.9169\n",
            "Epoch 9/100\n",
            "51/51 [==============================] - 0s 1ms/step - loss: 0.2246 - accuracy: 0.9182\n",
            "Epoch 10/100\n",
            "51/51 [==============================] - 0s 1ms/step - loss: 0.2078 - accuracy: 0.9274\n",
            "Epoch 11/100\n",
            "51/51 [==============================] - 0s 966us/step - loss: 0.1944 - accuracy: 0.9372\n",
            "Epoch 12/100\n",
            "51/51 [==============================] - 0s 1ms/step - loss: 0.1825 - accuracy: 0.9391\n",
            "Epoch 13/100\n",
            "51/51 [==============================] - 0s 1ms/step - loss: 0.1728 - accuracy: 0.9434\n",
            "Epoch 14/100\n",
            "51/51 [==============================] - 0s 1ms/step - loss: 0.1637 - accuracy: 0.9465\n",
            "Epoch 15/100\n",
            "51/51 [==============================] - 0s 1ms/step - loss: 0.1564 - accuracy: 0.9514\n",
            "Epoch 16/100\n",
            "51/51 [==============================] - 0s 2ms/step - loss: 0.1499 - accuracy: 0.9551\n",
            "Epoch 17/100\n",
            "51/51 [==============================] - 0s 1ms/step - loss: 0.1443 - accuracy: 0.9582\n",
            "Epoch 18/100\n",
            "51/51 [==============================] - 0s 1ms/step - loss: 0.1390 - accuracy: 0.9594\n",
            "Epoch 19/100\n",
            "51/51 [==============================] - 0s 980us/step - loss: 0.1340 - accuracy: 0.9631\n",
            "Epoch 20/100\n",
            "51/51 [==============================] - 0s 1ms/step - loss: 0.1294 - accuracy: 0.9662\n",
            "Epoch 21/100\n",
            "51/51 [==============================] - 0s 1ms/step - loss: 0.1249 - accuracy: 0.9692\n",
            "Epoch 22/100\n",
            "51/51 [==============================] - 0s 907us/step - loss: 0.1207 - accuracy: 0.9723\n",
            "Epoch 23/100\n",
            "51/51 [==============================] - 0s 2ms/step - loss: 0.1166 - accuracy: 0.9723\n",
            "Epoch 24/100\n",
            "51/51 [==============================] - 0s 933us/step - loss: 0.1127 - accuracy: 0.9723\n",
            "Epoch 25/100\n",
            "51/51 [==============================] - 0s 1ms/step - loss: 0.1095 - accuracy: 0.9723\n",
            "Epoch 26/100\n",
            "51/51 [==============================] - 0s 1ms/step - loss: 0.1060 - accuracy: 0.9723\n",
            "Epoch 27/100\n",
            "51/51 [==============================] - 0s 993us/step - loss: 0.1028 - accuracy: 0.9723\n",
            "Epoch 28/100\n",
            "51/51 [==============================] - 0s 964us/step - loss: 0.1001 - accuracy: 0.9723\n",
            "Epoch 29/100\n",
            "51/51 [==============================] - 0s 1ms/step - loss: 0.0973 - accuracy: 0.9742\n",
            "Epoch 30/100\n",
            "51/51 [==============================] - 0s 2ms/step - loss: 0.0951 - accuracy: 0.9742\n",
            "Epoch 31/100\n",
            "51/51 [==============================] - 0s 1ms/step - loss: 0.0926 - accuracy: 0.9766\n",
            "Epoch 32/100\n",
            "51/51 [==============================] - 0s 2ms/step - loss: 0.0907 - accuracy: 0.9778\n",
            "Epoch 33/100\n",
            "51/51 [==============================] - 0s 1ms/step - loss: 0.0889 - accuracy: 0.9778\n",
            "Epoch 34/100\n",
            "51/51 [==============================] - 0s 1ms/step - loss: 0.0871 - accuracy: 0.9778\n",
            "Epoch 35/100\n",
            "51/51 [==============================] - 0s 2ms/step - loss: 0.0855 - accuracy: 0.9778\n",
            "Epoch 36/100\n",
            "51/51 [==============================] - 0s 1ms/step - loss: 0.0839 - accuracy: 0.9778\n",
            "Epoch 37/100\n",
            "51/51 [==============================] - 0s 1ms/step - loss: 0.0824 - accuracy: 0.9778\n",
            "Epoch 38/100\n",
            "51/51 [==============================] - 0s 1ms/step - loss: 0.0808 - accuracy: 0.9778\n",
            "Epoch 39/100\n",
            "51/51 [==============================] - 0s 1ms/step - loss: 0.0791 - accuracy: 0.9778\n",
            "Epoch 40/100\n",
            "51/51 [==============================] - 0s 960us/step - loss: 0.0783 - accuracy: 0.9778\n",
            "Epoch 41/100\n",
            "51/51 [==============================] - 0s 995us/step - loss: 0.0762 - accuracy: 0.9778\n",
            "Epoch 42/100\n",
            "51/51 [==============================] - 0s 998us/step - loss: 0.0751 - accuracy: 0.9778\n",
            "Epoch 43/100\n",
            "51/51 [==============================] - 0s 2ms/step - loss: 0.0746 - accuracy: 0.9778\n",
            "Epoch 44/100\n",
            "51/51 [==============================] - 0s 2ms/step - loss: 0.0729 - accuracy: 0.9778\n",
            "Epoch 45/100\n",
            "51/51 [==============================] - 0s 1ms/step - loss: 0.0716 - accuracy: 0.9778\n",
            "Epoch 46/100\n",
            "51/51 [==============================] - 0s 2ms/step - loss: 0.0707 - accuracy: 0.9778\n",
            "Epoch 47/100\n",
            "51/51 [==============================] - 0s 1ms/step - loss: 0.0695 - accuracy: 0.9778\n",
            "Epoch 48/100\n",
            "51/51 [==============================] - 0s 1ms/step - loss: 0.0685 - accuracy: 0.9778\n",
            "Epoch 49/100\n",
            "51/51 [==============================] - 0s 1ms/step - loss: 0.0675 - accuracy: 0.9778\n",
            "Epoch 50/100\n",
            "51/51 [==============================] - 0s 988us/step - loss: 0.0671 - accuracy: 0.9778\n",
            "Epoch 51/100\n",
            "51/51 [==============================] - 0s 1ms/step - loss: 0.0661 - accuracy: 0.9778\n",
            "Epoch 52/100\n",
            "51/51 [==============================] - 0s 1ms/step - loss: 0.0649 - accuracy: 0.9778\n",
            "Epoch 53/100\n",
            "51/51 [==============================] - 0s 1ms/step - loss: 0.0639 - accuracy: 0.9778\n",
            "Epoch 54/100\n",
            "51/51 [==============================] - 0s 987us/step - loss: 0.0633 - accuracy: 0.9778\n",
            "Epoch 55/100\n",
            "51/51 [==============================] - 0s 1ms/step - loss: 0.0628 - accuracy: 0.9778\n",
            "Epoch 56/100\n",
            "51/51 [==============================] - 0s 1ms/step - loss: 0.0622 - accuracy: 0.9778\n",
            "Epoch 57/100\n",
            "51/51 [==============================] - 0s 1ms/step - loss: 0.0609 - accuracy: 0.9778\n",
            "Epoch 58/100\n",
            "51/51 [==============================] - 0s 1ms/step - loss: 0.0603 - accuracy: 0.9778\n",
            "Epoch 59/100\n",
            "51/51 [==============================] - 0s 1ms/step - loss: 0.0598 - accuracy: 0.9797\n",
            "Epoch 60/100\n",
            "51/51 [==============================] - 0s 1ms/step - loss: 0.0589 - accuracy: 0.9785\n",
            "Epoch 61/100\n",
            "51/51 [==============================] - 0s 1ms/step - loss: 0.0582 - accuracy: 0.9797\n",
            "Epoch 62/100\n",
            "51/51 [==============================] - 0s 988us/step - loss: 0.0573 - accuracy: 0.9791\n",
            "Epoch 63/100\n",
            "51/51 [==============================] - 0s 1ms/step - loss: 0.0569 - accuracy: 0.9803\n",
            "Epoch 64/100\n",
            "51/51 [==============================] - 0s 1ms/step - loss: 0.0560 - accuracy: 0.9803\n",
            "Epoch 65/100\n",
            "51/51 [==============================] - 0s 1ms/step - loss: 0.0554 - accuracy: 0.9803\n",
            "Epoch 66/100\n",
            "51/51 [==============================] - 0s 1ms/step - loss: 0.0549 - accuracy: 0.9803\n",
            "Epoch 67/100\n",
            "51/51 [==============================] - 0s 1ms/step - loss: 0.0539 - accuracy: 0.9803\n",
            "Epoch 68/100\n",
            "51/51 [==============================] - 0s 2ms/step - loss: 0.0532 - accuracy: 0.9803\n",
            "Epoch 69/100\n",
            "51/51 [==============================] - 0s 1ms/step - loss: 0.0528 - accuracy: 0.9803\n",
            "Epoch 70/100\n",
            "51/51 [==============================] - 0s 2ms/step - loss: 0.0519 - accuracy: 0.9822\n",
            "Epoch 71/100\n",
            "51/51 [==============================] - 0s 2ms/step - loss: 0.0510 - accuracy: 0.9822\n",
            "Epoch 72/100\n",
            "51/51 [==============================] - 0s 1ms/step - loss: 0.0507 - accuracy: 0.9803\n",
            "Epoch 73/100\n",
            "51/51 [==============================] - 0s 2ms/step - loss: 0.0498 - accuracy: 0.9834\n",
            "Epoch 74/100\n",
            "51/51 [==============================] - 0s 1ms/step - loss: 0.0489 - accuracy: 0.9809\n",
            "Epoch 75/100\n",
            "51/51 [==============================] - 0s 2ms/step - loss: 0.0483 - accuracy: 0.9815\n",
            "Epoch 76/100\n",
            "51/51 [==============================] - 0s 1ms/step - loss: 0.0476 - accuracy: 0.9852\n",
            "Epoch 77/100\n",
            "51/51 [==============================] - 0s 1ms/step - loss: 0.0467 - accuracy: 0.9852\n",
            "Epoch 78/100\n",
            "51/51 [==============================] - 0s 1ms/step - loss: 0.0464 - accuracy: 0.9828\n",
            "Epoch 79/100\n",
            "51/51 [==============================] - 0s 2ms/step - loss: 0.0454 - accuracy: 0.9846\n",
            "Epoch 80/100\n",
            "51/51 [==============================] - 0s 1ms/step - loss: 0.0447 - accuracy: 0.9846\n",
            "Epoch 81/100\n",
            "51/51 [==============================] - 0s 1ms/step - loss: 0.0442 - accuracy: 0.9865\n",
            "Epoch 82/100\n",
            "51/51 [==============================] - 0s 1ms/step - loss: 0.0429 - accuracy: 0.9865\n",
            "Epoch 83/100\n",
            "51/51 [==============================] - 0s 1ms/step - loss: 0.0421 - accuracy: 0.9865\n",
            "Epoch 84/100\n",
            "51/51 [==============================] - 0s 2ms/step - loss: 0.0415 - accuracy: 0.9858\n",
            "Epoch 85/100\n",
            "51/51 [==============================] - 0s 1ms/step - loss: 0.0407 - accuracy: 0.9865\n",
            "Epoch 86/100\n",
            "51/51 [==============================] - 0s 1ms/step - loss: 0.0400 - accuracy: 0.9877\n",
            "Epoch 87/100\n",
            "51/51 [==============================] - 0s 1ms/step - loss: 0.0390 - accuracy: 0.9871\n",
            "Epoch 88/100\n",
            "51/51 [==============================] - 0s 1ms/step - loss: 0.0384 - accuracy: 0.9871\n",
            "Epoch 89/100\n",
            "51/51 [==============================] - 0s 1ms/step - loss: 0.0375 - accuracy: 0.9877\n",
            "Epoch 90/100\n",
            "51/51 [==============================] - 0s 1ms/step - loss: 0.0369 - accuracy: 0.9877\n",
            "Epoch 91/100\n",
            "51/51 [==============================] - 0s 1ms/step - loss: 0.0360 - accuracy: 0.9877\n",
            "Epoch 92/100\n",
            "51/51 [==============================] - 0s 1ms/step - loss: 0.0354 - accuracy: 0.9877\n",
            "Epoch 93/100\n",
            "51/51 [==============================] - 0s 1ms/step - loss: 0.0346 - accuracy: 0.9877\n",
            "Epoch 94/100\n",
            "51/51 [==============================] - 0s 1ms/step - loss: 0.0343 - accuracy: 0.9883\n",
            "Epoch 95/100\n",
            "51/51 [==============================] - 0s 2ms/step - loss: 0.0336 - accuracy: 0.9877\n",
            "Epoch 96/100\n",
            "51/51 [==============================] - 0s 2ms/step - loss: 0.0325 - accuracy: 0.9877\n",
            "Epoch 97/100\n",
            "51/51 [==============================] - 0s 1ms/step - loss: 0.0317 - accuracy: 0.9895\n",
            "Epoch 98/100\n",
            "51/51 [==============================] - 0s 1ms/step - loss: 0.0305 - accuracy: 0.9895\n",
            "Epoch 99/100\n",
            "51/51 [==============================] - 0s 1ms/step - loss: 0.0291 - accuracy: 0.9895\n",
            "Epoch 100/100\n",
            "51/51 [==============================] - 0s 2ms/step - loss: 0.0280 - accuracy: 0.9895\n"
          ]
        },
        {
          "output_type": "execute_result",
          "data": {
            "text/plain": [
              "<keras.callbacks.History at 0x7f09222b5ee0>"
            ]
          },
          "metadata": {},
          "execution_count": 25
        }
      ],
      "source": [
        "ann.fit(X_test, y_test, batch_size = 32, epochs = 100)"
      ]
    },
    {
      "cell_type": "markdown",
      "id": "898c312b",
      "metadata": {
        "papermill": {
          "duration": 0.148959,
          "end_time": "2022-04-01T16:12:27.336174",
          "exception": false,
          "start_time": "2022-04-01T16:12:27.187215",
          "status": "completed"
        },
        "tags": [],
        "id": "898c312b"
      },
      "source": [
        "## Predicting Test set results"
      ]
    },
    {
      "cell_type": "code",
      "execution_count": 26,
      "id": "d3b57671",
      "metadata": {
        "execution": {
          "iopub.execute_input": "2022-04-01T16:12:27.637500Z",
          "iopub.status.busy": "2022-04-01T16:12:27.636804Z",
          "iopub.status.idle": "2022-04-01T16:12:27.812290Z",
          "shell.execute_reply": "2022-04-01T16:12:27.813145Z",
          "shell.execute_reply.started": "2022-04-01T16:10:29.738676Z"
        },
        "papermill": {
          "duration": 0.329237,
          "end_time": "2022-04-01T16:12:27.813317",
          "exception": false,
          "start_time": "2022-04-01T16:12:27.484080",
          "status": "completed"
        },
        "tags": [],
        "colab": {
          "base_uri": "https://localhost:8080/"
        },
        "id": "d3b57671",
        "outputId": "6afb725e-b844-47fc-e124-3b2e79e76d5f"
      },
      "outputs": [
        {
          "output_type": "stream",
          "name": "stdout",
          "text": [
            "51/51 [==============================] - 0s 763us/step\n",
            "[[1 1]\n",
            " [0 0]\n",
            " [0 0]\n",
            " ...\n",
            " [1 1]\n",
            " [0 0]\n",
            " [0 0]]\n"
          ]
        }
      ],
      "source": [
        "y_pred = ann.predict(X_test)\n",
        "y_pred = (y_pred > 0.5)\n",
        "print(np.concatenate((y_pred.reshape(len(y_pred),1), y_test.values.reshape(len(y_test),1)),1))"
      ]
    },
    {
      "cell_type": "markdown",
      "id": "b46ec06c",
      "metadata": {
        "papermill": {
          "duration": 0.149189,
          "end_time": "2022-04-01T16:12:28.112002",
          "exception": false,
          "start_time": "2022-04-01T16:12:27.962813",
          "status": "completed"
        },
        "tags": [],
        "id": "b46ec06c"
      },
      "source": [
        "## Making the Confusion Matrix"
      ]
    },
    {
      "cell_type": "code",
      "execution_count": 63,
      "id": "516075e1",
      "metadata": {
        "execution": {
          "iopub.execute_input": "2022-04-01T16:12:28.412249Z",
          "iopub.status.busy": "2022-04-01T16:12:28.411306Z",
          "iopub.status.idle": "2022-04-01T16:12:28.420811Z",
          "shell.execute_reply": "2022-04-01T16:12:28.420265Z",
          "shell.execute_reply.started": "2022-04-01T16:10:29.930723Z"
        },
        "papermill": {
          "duration": 0.160843,
          "end_time": "2022-04-01T16:12:28.420960",
          "exception": false,
          "start_time": "2022-04-01T16:12:28.260117",
          "status": "completed"
        },
        "tags": [],
        "colab": {
          "base_uri": "https://localhost:8080/"
        },
        "id": "516075e1",
        "outputId": "ebbb6205-954b-4715-bb5c-6f90821d884f"
      },
      "outputs": [
        {
          "output_type": "stream",
          "name": "stdout",
          "text": [
            "[[843   9]\n",
            " [  5 768]]\n"
          ]
        },
        {
          "output_type": "execute_result",
          "data": {
            "text/plain": [
              "0.9913846153846154"
            ]
          },
          "metadata": {},
          "execution_count": 63
        }
      ],
      "source": [
        "from sklearn.metrics import confusion_matrix, accuracy_score, classification_report\n",
        "cm = confusion_matrix(y_test, y_pred)\n",
        "print(cm)\n",
        "accuracy_score(y_test, y_pred)\n"
      ]
    },
    {
      "cell_type": "code",
      "source": [
        "f,ax = plt.subplots(figsize=(6, 6))\n",
        "sns.heatmap(cm, annot=True, linewidths=0.5,linecolor=\"red\", fmt= '.0f',ax=ax)\n",
        "plt.show()"
      ],
      "metadata": {
        "colab": {
          "base_uri": "https://localhost:8080/",
          "height": 374
        },
        "id": "-I8s__094K_B",
        "outputId": "6efdd3c8-1043-4bc4-d878-2d2ded53e84d"
      },
      "id": "-I8s__094K_B",
      "execution_count": 57,
      "outputs": [
        {
          "output_type": "display_data",
          "data": {
            "text/plain": [
              "<Figure size 432x432 with 2 Axes>"
            ],
            "image/png": "[encoded data removed]"
          },
          "metadata": {
            "needs_background": "light"
          }
        }
      ]
    }
  ],
  "metadata": {
    "kernelspec": {
      "display_name": "Python 3",
      "language": "python",
      "name": "python3"
    },
    "language_info": {
      "codemirror_mode": {
        "name": "ipython",
        "version": 3
      },
      "file_extension": ".py",
      "mimetype": "text/x-python",
      "name": "python",
      "nbconvert_exporter": "python",
      "pygments_lexer": "ipython3",
      "version": "3.7.12"
    },
    "papermill": {
      "default_parameters": {},
      "duration": 36.588026,
      "end_time": "2022-04-01T16:12:32.791927",
      "environment_variables": {},
      "exception": null,
      "input_path": "__notebook__.ipynb",
      "output_path": "__notebook__.ipynb",
      "parameters": {},
      "start_time": "2022-04-01T16:11:56.203901",
      "version": "2.3.3"
    },
    "colab": {
      "provenance": [],
      "include_colab_link": true
    }
  },
  "nbformat": 4,
  "nbformat_minor": 5
}